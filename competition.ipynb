{
 "cells": [
  {
   "cell_type": "markdown",
   "metadata": {},
   "source": [
    "KAGGLE TITANIC COMPETITION"
   ]
  },
  {
   "cell_type": "code",
   "execution_count": null,
   "metadata": {},
   "outputs": [],
   "source": [
    "# Exploratory Data Analysis (EDA)\n",
    "# Import libraries for EDA\n",
    "import pandas\n",
    "import numpy as np\n",
    "import matplotlib.pyplot as plt\n",
    "import seaborn as sns\n",
    "# Load the dataset\n",
    "data = pandas.read_csv('train.csv')\n",
    "# View the first few rows of the dataset\n",
    "data.head()\n",
    "# Check the shape of the dataset\n",
    "data.shape\n",
    "#length = len(data)\n",
    "#print(length)\n",
    "# Get Information about the dataset\n",
    "data.info()\n",
    "# Get statistical summary \n",
    "data.describe()\n",
    "# Get missing values\n",
    "data.isnull().sum()\n",
    "# Visualize missing values\n",
    "sns.heatmap(data.isnull(), cbar=False, cmap='viridis')\n",
    "plt.show()\n",
    "# impute missing values\n",
    "data['Age'] = data['Age'].fillna(data['Age'].mean())\n",
    "data['Embarked'] = data['Embarked'].fillna(data['Embarked'].mode()[0])\n",
    "# Drop cabin missing values.\n",
    "data = data.drop('Cabin', axis=1)\n",
    "missing_values = data.isnull().sum()\n",
    "print(missing_values)\n"
   ]
  },
  {
   "cell_type": "code",
   "execution_count": null,
   "metadata": {},
   "outputs": [],
   "source": [
    "\n",
    "\n",
    "\n"
   ]
  },
  {
   "cell_type": "markdown",
   "metadata": {},
   "source": [
    "Feature Analysis\n",
    "Feature analysis is a crucial step in the machine learning pipeline. It involves analyzing and understanding the characteristics of each feature\n",
    " 0   PassengerId  891 non-null    int64  \n",
    " 1   Survived     891 non-null    int64  \n",
    " 2   Pclass       891 non-null    int64  \n",
    " 3   Name         891 non-null    object \n",
    " 4   Sex          891 non-null    object \n",
    " 5   Age          891 non-null    float64\n",
    " 6   SibSp        891 non-null    int64  \n",
    " 7   Parch        891 non-null    int64  \n",
    " 8   Ticket       891 non-null    object \n",
    " 9   Fare         891 non-null    float64\n",
    " 10  Embarked     891 non-null    object \n",
    "\n",
    "\n"
   ]
  },
  {
   "cell_type": "code",
   "execution_count": null,
   "metadata": {},
   "outputs": [],
   "source": [
    "# Categorical features - Analyse each feature in relation to the target \"Survived\"\n",
    "# Pclass\n",
    "sns.countplot(x='Pclass', hue='Survived', data=data)\n",
    "plt.show()\n",
    "\n",
    "# Sex\n",
    "sns.countplot(x='Sex',hue='Survived', data=data)\n",
    "plt.show()\n",
    "\n",
    "# Embarked\n",
    "sns.countplot(x='Embarked', hue='Survived', data=data)\n",
    "plt.show()\n",
    "\n",
    "# Numerical features \n",
    "# Age\n",
    "sns.histplot(data=data, x='Age', hue='Survived', multiple='stack', kde=True)\n",
    "plt.show()\n",
    "\n",
    "# Fare\n",
    "sns.histplot(data=data, x='Fare', hue='Survived', multiple='stack', kde=True)\n",
    "plt.show()\n",
    "\n"
   ]
  },
  {
   "cell_type": "markdown",
   "metadata": {},
   "source": [
    "Correlation between categorical and Numerical features"
   ]
  }
 ],
 "metadata": {
  "kernelspec": {
   "display_name": "Python 3",
   "language": "python",
   "name": "python3"
  },
  "language_info": {
   "codemirror_mode": {
    "name": "ipython",
    "version": 3
   },
   "file_extension": ".py",
   "mimetype": "text/x-python",
   "name": "python",
   "nbconvert_exporter": "python",
   "pygments_lexer": "ipython3",
   "version": "3.12.2"
  }
 },
 "nbformat": 4,
 "nbformat_minor": 2
}
